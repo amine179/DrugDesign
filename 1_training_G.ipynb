{
 "cells": [
  {
   "cell_type": "markdown",
   "id": "547ce239",
   "metadata": {},
   "source": [
    "## Imports:"
   ]
  },
  {
   "cell_type": "code",
   "execution_count": 4,
   "id": "above-exhibit",
   "metadata": {},
   "outputs": [],
   "source": [
    "import torch \n",
    "import unidecode\n",
    "import random\n",
    "import numpy as np\n",
    "import matplotlib.pyplot as plt\n",
    "import pandas as pd\n",
    "\n",
    "from models.charRNN import make_charRNN, get_random_batch, generate\n",
    "from utils import n_chars, check_validity, check_novelty, strsmis2listsmis, list2txt, get_props"
   ]
  },
  {
   "cell_type": "code",
   "execution_count": 5,
   "id": "86245df7",
   "metadata": {},
   "outputs": [],
   "source": [
    "device = torch.device('cuda' if torch.cuda.is_available() else 'cpu')"
   ]
  },
  {
   "cell_type": "markdown",
   "id": "62a0c0c7",
   "metadata": {},
   "source": [
    "## Data preparation"
   ]
  },
  {
   "cell_type": "code",
   "execution_count": 6,
   "id": "freelance-fundamental",
   "metadata": {},
   "outputs": [],
   "source": [
    "file = unidecode.unidecode(open('all_data/s_100_str_+1M.txt').read())"
   ]
  },
  {
   "cell_type": "code",
   "execution_count": 7,
   "id": "innovative-forty",
   "metadata": {},
   "outputs": [
    {
     "data": {
      "text/plain": [
       "'<COc1ccc2[C@@H]3[C@H](COc2c1)C(C)(C)OC4=C3C(=O)C(=O)C5=C4OC(C)(C)[C@@H]6COc7cc(OC)ccc7[C@H]56><C[S+]'"
      ]
     },
     "execution_count": 7,
     "metadata": {},
     "output_type": "execute_result"
    }
   ],
   "source": [
    "file[0:100]"
   ]
  },
  {
   "cell_type": "markdown",
   "id": "5b1e301b",
   "metadata": {},
   "source": [
    "## Make the model"
   ]
  },
  {
   "cell_type": "code",
   "execution_count": 12,
   "id": "spectacular-italian",
   "metadata": {},
   "outputs": [],
   "source": [
    "model_name = 'G'\n",
    "# model_name = None\n",
    "rnn, optimizer, criterion = make_charRNN(n_chars=n_chars, hidden_size=512, \n",
    "                                         num_layers=3, lr=0.0005, pretrained_file=model_name)\n",
    "\n",
    "# pretrained_file='G'          to use our pretrained model\n",
    "# pretrained_file=None         to train a new model"
   ]
  },
  {
   "cell_type": "code",
   "execution_count": 13,
   "id": "5d0ba093",
   "metadata": {},
   "outputs": [
    {
     "name": "stdout",
     "output_type": "stream",
     "text": [
      "RNN(\n",
      "  (embed): Embedding(56, 30)\n",
      "  (gru): GRU(30, 512, num_layers=3, batch_first=True)\n",
      "  (fc): Linear(in_features=512, out_features=56, bias=True)\n",
      ")\n"
     ]
    }
   ],
   "source": [
    "print(rnn)"
   ]
  },
  {
   "cell_type": "markdown",
   "id": "b7bcc61e",
   "metadata": {},
   "source": [
    "# Train"
   ]
  },
  {
   "cell_type": "code",
   "execution_count": 14,
   "id": "smart-validation",
   "metadata": {},
   "outputs": [],
   "source": [
    "def train(chunk_len=256, n_epochs=2500, print_every=10):\n",
    "    print(\"=> Starting training...\")\n",
    "    Ls = []\n",
    "    for epoch in range(1, n_epochs + 1):\n",
    "        inp, target = get_random_batch(file, chunk_len)\n",
    "        hidden = rnn.init_hidden()\n",
    "\n",
    "        rnn.zero_grad()\n",
    "        loss = 0\n",
    "        inp = inp.to(device)\n",
    "        target = target.to(device)\n",
    "        \n",
    "        for i in range(chunk_len): \n",
    "            output, hidden = rnn(inp[:, i], hidden)\n",
    "            loss += criterion(output, target[:,i])\n",
    "        loss.backward()\n",
    "        optimizer.step()\n",
    "        loss = loss.item()/(chunk_len)\n",
    "        Ls.append(loss)\n",
    "        if epoch % print_every == 0:  \n",
    "            print(f'Loss: {loss}')\n",
    "        print(\"epoch number : \", epoch)            \n",
    "    return Ls"
   ]
  },
  {
   "cell_type": "code",
   "execution_count": 17,
   "id": "bcf08041",
   "metadata": {
    "scrolled": true
   },
   "outputs": [],
   "source": [
    "Losses = train(chunk_len=256, n_epochs=2500, print_every=10)"
   ]
  },
  {
   "cell_type": "code",
   "execution_count": 19,
   "id": "72ec700d",
   "metadata": {},
   "outputs": [
    {
     "data": {
      "text/plain": [
       "Text(0.5, 0, 'Training iterations')"
      ]
     },
     "execution_count": 19,
     "metadata": {},
     "output_type": "execute_result"
    },
    {
     "data": {
      "image/png": "[encoded data removed]",
      "text/plain": [
       "<Figure size 432x288 with 1 Axes>"
      ]
     },
     "metadata": {
      "needs_background": "light"
     },
     "output_type": "display_data"
    }
   ],
   "source": [
    "plt.plot(Losses)\n",
    "plt.ylabel('Loss')\n",
    "plt.xlabel('Training iterations')\n",
    "# plt.savefig('G_loss.png', dpi=300)"
   ]
  },
  {
   "cell_type": "code",
   "execution_count": 20,
   "id": "wireless-representative",
   "metadata": {},
   "outputs": [],
   "source": [
    "# filename = 'models/pretrained/G.pth'\n",
    "# torch.save(rnn.state_dict(), filename)"
   ]
  },
  {
   "cell_type": "markdown",
   "id": "eb5893ab",
   "metadata": {},
   "source": [
    "# Test: -----------------------------------------------------------\n",
    "**Keep changing the temperature:**\n",
    "\n",
    "How it works: https://stackoverflow.com/questions/58764619/why-should-we-use-temperature-in-softmax"
   ]
  },
  {
   "cell_type": "code",
   "execution_count": 18,
   "id": "3895ecdb",
   "metadata": {},
   "outputs": [],
   "source": [
    "# temp_used = 1\n",
    "# temp_used = 0.80\n",
    "# temp_used = 0.60\n",
    "# temp_used = 0.40\n",
    "# temp_used = 0.20\n",
    "\n",
    "temp_used = 0.50 #optimal"
   ]
  },
  {
   "cell_type": "code",
   "execution_count": 19,
   "id": "be3654e4",
   "metadata": {},
   "outputs": [
    {
     "data": {
      "text/plain": [
       "0.5"
      ]
     },
     "execution_count": 19,
     "metadata": {},
     "output_type": "execute_result"
    }
   ],
   "source": [
    "temp_used"
   ]
  },
  {
   "cell_type": "markdown",
   "id": "f1b7ec74",
   "metadata": {},
   "source": [
    "## 0. generate k molecules:\n",
    "* set the desired max length and temperature"
   ]
  },
  {
   "cell_type": "code",
   "execution_count": 20,
   "id": "certain-booth",
   "metadata": {
    "scrolled": true
   },
   "outputs": [],
   "source": [
    "n_ep = 10000\n",
    "all_smis = []\n",
    "for ep in range(n_ep):\n",
    "    length = 102 \n",
    "    ic = '<'\n",
    "    smi = generate(rnn, initial_str=ic, predict_len=length, temperature=temp_used)\n",
    "    all_smis.append(smi)\n",
    "#     print(\"iteration:\", ep)"
   ]
  },
  {
   "cell_type": "code",
   "execution_count": 21,
   "id": "08f38b73",
   "metadata": {},
   "outputs": [],
   "source": [
    "### save the list of generated smiles if you want\n",
    "# filename = model_name + '_all_smis_.txt'\n",
    "# path = 'gen_smis/' + filename\n",
    "# list2txt(path, mylist=all_smis)"
   ]
  },
  {
   "cell_type": "markdown",
   "id": "9daff7ff",
   "metadata": {},
   "source": [
    "## 1. How many among all_smis are valid:"
   ]
  },
  {
   "cell_type": "code",
   "execution_count": 22,
   "id": "21258747",
   "metadata": {},
   "outputs": [],
   "source": [
    "val_smis = []\n",
    "for i, s in enumerate(all_smis):\n",
    "    v = check_validity(s)\n",
    "    if v == 1:\n",
    "        val_smis.append(s)\n",
    "#         print(\"mol at:\", i, \" : verified\")"
   ]
  },
  {
   "cell_type": "code",
   "execution_count": 37,
   "id": "common-heath",
   "metadata": {},
   "outputs": [],
   "source": [
    "print(\"There is \", len(val_smis), \"valid molecule among the\", len(all_smis), \"generated\")\n",
    "print(\"meaning a percent of: \", 100 * len(val_smis)/ len(all_smis), \"%\")"
   ]
  },
  {
   "cell_type": "markdown",
   "id": "d0b34cef",
   "metadata": {},
   "source": [
    "## 2. How many among val_smis are novel:"
   ]
  },
  {
   "cell_type": "code",
   "execution_count": 24,
   "id": "f3043ccc",
   "metadata": {},
   "outputs": [
    {
     "data": {
      "text/plain": [
       "1498669"
      ]
     },
     "execution_count": 24,
     "metadata": {},
     "output_type": "execute_result"
    }
   ],
   "source": [
    "###----- but first, convert the dataset which is a string file to list\n",
    "smis_list = strsmis2listsmis(file)\n",
    "len(smis_list)"
   ]
  },
  {
   "cell_type": "code",
   "execution_count": 26,
   "id": "90828aed",
   "metadata": {
    "scrolled": true
   },
   "outputs": [],
   "source": [
    "val_and_nov_smis = []\n",
    "for i, s in enumerate(val_smis):\n",
    "    nv = check_novelty(s, smis_list)\n",
    "    if nv == 1:\n",
    "        val_and_nov_smis.append(s)\n",
    "#         print(\"mol at:\", i, \" : verified\")"
   ]
  },
  {
   "cell_type": "code",
   "execution_count": 36,
   "id": "3829b1f6",
   "metadata": {},
   "outputs": [],
   "source": [
    "print(\"There is \", len(val_and_nov_smis), \"valid & novel molecule among the\", len(all_smis), \"generated\")\n",
    "print(\"meaning a percent of: \", 100 * len(val_and_nov_smis)/ len(val_smis), \"%\")"
   ]
  },
  {
   "cell_type": "markdown",
   "id": "f3ac276d",
   "metadata": {},
   "source": [
    "## 3. How many among valid_and_novel_smis are unique \n",
    "* meaning, they don't have duplicates/were not repeated in the generated molecules"
   ]
  },
  {
   "cell_type": "code",
   "execution_count": 28,
   "id": "8c826899",
   "metadata": {},
   "outputs": [],
   "source": [
    "def check_uniqueness(smis_list):\n",
    "    return list(set(smis_list))"
   ]
  },
  {
   "cell_type": "code",
   "execution_count": 29,
   "id": "d90bae4f",
   "metadata": {},
   "outputs": [],
   "source": [
    "val_nov_and_unique_smis = check_uniqueness(val_and_nov_smis)"
   ]
  },
  {
   "cell_type": "code",
   "execution_count": 35,
   "id": "08ea4490",
   "metadata": {},
   "outputs": [],
   "source": [
    "len(val_nov_and_unique_smis)"
   ]
  },
  {
   "cell_type": "code",
   "execution_count": 33,
   "id": "f7e0b05b",
   "metadata": {},
   "outputs": [],
   "source": [
    "print(\"There is \", len(val_nov_and_unique_smis), \"valid, novel and unique molecule among the\", len(all_smis), \"generated\")\n",
    "print(\"meaning, a percent of : \", 100 * len(val_nov_and_unique_smis)/ len(val_and_nov_smis), \"%\")"
   ]
  },
  {
   "cell_type": "markdown",
   "id": "4f92ce3d",
   "metadata": {},
   "source": [
    "## 4. Diversity (intDiv) of the valid, novel, and unique smiles:\n",
    "* using the moses library https://github.com/molecularsets/moses"
   ]
  },
  {
   "cell_type": "code",
   "execution_count": 34,
   "id": "a445be91",
   "metadata": {},
   "outputs": [],
   "source": [
    "import moses\n",
    "moses.metrics.internal_diversity(val_nov_and_unique_smis)"
   ]
  },
  {
   "cell_type": "code",
   "execution_count": null,
   "id": "5b76e4df",
   "metadata": {},
   "outputs": [],
   "source": []
  }
 ],
 "metadata": {
  "kernelspec": {
   "display_name": "Python 3",
   "language": "python",
   "name": "python3"
  },
  "language_info": {
   "codemirror_mode": {
    "name": "ipython",
    "version": 3
   },
   "file_extension": ".py",
   "mimetype": "text/x-python",
   "name": "python",
   "nbconvert_exporter": "python",
   "pygments_lexer": "ipython3",
   "version": "3.7.13"
  }
 },
 "nbformat": 4,
 "nbformat_minor": 5
}
