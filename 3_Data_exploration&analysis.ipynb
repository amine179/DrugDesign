{
 "cells": [
  {
   "cell_type": "code",
   "execution_count": 1,
   "id": "7a93bf59",
   "metadata": {},
   "outputs": [],
   "source": [
    "import matplotlib.pyplot as plt\n",
    "import seaborn as sns\n",
    "sns.set()\n",
    "\n",
    "import numpy as np\n",
    "import random\n",
    "\n",
    "import unidecode\n",
    "\n",
    "import rdkit\n",
    "from rdkit import Chem\n",
    "\n",
    "import pandas as pd"
   ]
  },
  {
   "cell_type": "code",
   "execution_count": 2,
   "id": "c8efb6ad",
   "metadata": {},
   "outputs": [],
   "source": [
    "from utils import get_props, strsmis2listsmis, check_validity, logP, molWt, numAcc, numDon, rolBon"
   ]
  },
  {
   "cell_type": "markdown",
   "id": "c3390fda",
   "metadata": {},
   "source": [
    "## UMAP on morgan fingerprint to see if there is overlaps"
   ]
  },
  {
   "cell_type": "code",
   "execution_count": 9,
   "id": "aa627ab9",
   "metadata": {},
   "outputs": [],
   "source": [
    "%matplotlib inline\n",
    "import matplotlib.pyplot as plt\n",
    "import numpy as np\n",
    "import seaborn as sns\n",
    "from sklearn.manifold import TSNE\n",
    "import umap\n",
    "sns.set_context('poster')\n",
    "sns.set_style('white')\n",
    "sns.set_color_codes()\n",
    "plot_kwds = {'alpha':0.5, 's':80, 'linewidth':0}"
   ]
  },
  {
   "cell_type": "code",
   "execution_count": 10,
   "id": "d48fe3c1",
   "metadata": {},
   "outputs": [],
   "source": [
    "from rdkit import Chem\n",
    "from rdkit.Chem import AllChem\n",
    "from rdkit.Chem import Draw\n",
    "from rdkit.Chem import DataStructs\n",
    "from rdkit.Chem.Draw import IPythonConsole"
   ]
  },
  {
   "cell_type": "code",
   "execution_count": 11,
   "id": "67014a65",
   "metadata": {},
   "outputs": [
    {
     "name": "stdout",
     "output_type": "stream",
     "text": [
      "10000 10000\n"
     ]
    }
   ],
   "source": [
    "RL_file = 'gen_smis/RL_1_all_smis_.txt'\n",
    "\n",
    "RL = pd.read_csv(RL_file, header=None)\n",
    "RL_smis = list(RL[0])\n",
    "\n",
    "#-------------------------------------------------------------------------------------------------\n",
    "\n",
    "CRLV_file = 'gen_smis/CRLV_1_all_smis_.txt'\n",
    "\n",
    "CRLV = pd.read_csv(CRLV_file, header=None)\n",
    "CRLV_smis = list(CRLV[0])\n",
    "\n",
    "print(len(RL_smis), len(CRLV_smis))"
   ]
  },
  {
   "cell_type": "code",
   "execution_count": 12,
   "id": "b25b435d",
   "metadata": {},
   "outputs": [
    {
     "name": "stdout",
     "output_type": "stream",
     "text": [
      "7698\n",
      "6633\n",
      "-----------------------------\n",
      "5820\n",
      "4800\n"
     ]
    }
   ],
   "source": [
    "RL_val = []\n",
    "CRLV_val = []\n",
    "for s2, s3 in zip(RL_smis, CRLV_smis):\n",
    "    v2 = check_validity(s2)\n",
    "    if v2 == 1:\n",
    "        RL_val.append(s2)\n",
    "    v3 = check_validity(s3)\n",
    "    if v3 == 1:\n",
    "        CRLV_val.append(s3)\n",
    "        \n",
    "print(len(RL_val))\n",
    "print(len(CRLV_val))\n",
    "\n",
    "print(\"-----------------------------\")\n",
    "RL_unq = list(set(RL_val))\n",
    "CRLV_unq = list(set(CRLV_val))\n",
    "print(len(RL_unq))\n",
    "print(len(CRLV_unq))"
   ]
  },
  {
   "cell_type": "code",
   "execution_count": 13,
   "id": "d82d6bd6",
   "metadata": {},
   "outputs": [
    {
     "name": "stdout",
     "output_type": "stream",
     "text": [
      "5820\n",
      "4800\n"
     ]
    }
   ],
   "source": [
    "RL_mols = []\n",
    "for s in RL_unq:\n",
    "    RL_mols.append(Chem.MolFromSmiles(s))\n",
    "    \n",
    "print(len(RL_mols))\n",
    "\n",
    "CRLV_mols = []\n",
    "for s in CRLV_unq:\n",
    "    CRLV_mols.append(Chem.MolFromSmiles(s))\n",
    "    \n",
    "print(len(CRLV_mols))"
   ]
  },
  {
   "cell_type": "code",
   "execution_count": 14,
   "id": "4cc72c27",
   "metadata": {},
   "outputs": [
    {
     "name": "stdout",
     "output_type": "stream",
     "text": [
      "5820 mols loaded\n",
      "4800 mols loaded\n"
     ]
    }
   ],
   "source": [
    "RL_X = []\n",
    "for mol in RL_mols:\n",
    "    arr = np.zeros((0,))\n",
    "    fp = AllChem.GetMorganFingerprintAsBitVect(mol, 2)\n",
    "    DataStructs.ConvertToNumpyArray(fp, arr)\n",
    "    RL_X.append(arr)\n",
    "    \n",
    "print('{} mols loaded'.format(len(RL_X)))\n",
    "\n",
    "CRLV_X = []\n",
    "for mol in CRLV_mols:\n",
    "    arr = np.zeros((0,))\n",
    "    fp = AllChem.GetMorganFingerprintAsBitVect(mol, 2)\n",
    "    DataStructs.ConvertToNumpyArray(fp, arr)\n",
    "    CRLV_X.append(arr)\n",
    "    \n",
    "print('{} mols loaded'.format(len(CRLV_X)))"
   ]
  },
  {
   "cell_type": "code",
   "execution_count": 15,
   "id": "167e07b6",
   "metadata": {},
   "outputs": [],
   "source": [
    "import numba\n",
    "@numba.njit()\n",
    "def tanimoto_dist(a,b):\n",
    "    dotprod = np.dot(a,b)\n",
    "    tc = dotprod / (np.sum(a) + np.sum(b) - dotprod)\n",
    "    return 1.0-tc"
   ]
  },
  {
   "cell_type": "code",
   "execution_count": 18,
   "id": "6e3f3ae2",
   "metadata": {},
   "outputs": [],
   "source": [
    "umap_RL_X = umap.UMAP(n_neighbors=8, min_dist=0.3, metric=tanimoto_dist).fit_transform(RL_X)\n",
    "print(umap_RL_X.shape)\n",
    "\n",
    "umap_CRLV_X = umap.UMAP(n_neighbors=8, min_dist=0.3, metric=tanimoto_dist).fit_transform(CRLV_X)\n",
    "print(umap_CRLV_X.shape)"
   ]
  },
  {
   "cell_type": "code",
   "execution_count": 17,
   "id": "8cd39aab",
   "metadata": {},
   "outputs": [
    {
     "data": {
      "text/plain": [
       "<matplotlib.collections.PathCollection at 0x119f2bbb520>"
      ]
     },
     "execution_count": 17,
     "metadata": {},
     "output_type": "execute_result"
    },
    {
     "data": {
      "image/png": "[encoded data removed]",
      "text/plain": [
       "<Figure size 432x288 with 1 Axes>"
      ]
     },
     "metadata": {},
     "output_type": "display_data"
    }
   ],
   "source": [
    "# plots for objective 1\n",
    "plt.scatter(umap_RL_X.T[0], umap_RL_X.T[1])       #, **plot_kwds)\n",
    "plt.scatter(umap_CRLV_X.T[0], umap_CRLV_X.T[1])   #, **plot_kwds)\n",
    "\n",
    "# plt.savefig('gen_smis/obj1_umap.png', dpi=300)"
   ]
  },
  {
   "cell_type": "markdown",
   "id": "c78f827b",
   "metadata": {},
   "source": [
    "## KDE and UMAP plots: generated molecules VS dataset "
   ]
  },
  {
   "cell_type": "markdown",
   "id": "c7327740",
   "metadata": {},
   "source": [
    "### Generated molecules:"
   ]
  },
  {
   "cell_type": "code",
   "execution_count": 3,
   "id": "049c915b",
   "metadata": {},
   "outputs": [],
   "source": [
    "G1 = pd.read_csv('gen_smis/G_all_smis_.txt', header=None)\n",
    "# G1.head()"
   ]
  },
  {
   "cell_type": "code",
   "execution_count": 4,
   "id": "a9fdf8e8",
   "metadata": {},
   "outputs": [
    {
     "name": "stdout",
     "output_type": "stream",
     "text": [
      "10000\n"
     ]
    }
   ],
   "source": [
    "G1_smis = list(G1[0])\n",
    "print(len(G1_smis))"
   ]
  },
  {
   "cell_type": "code",
   "execution_count": 5,
   "id": "863f4902",
   "metadata": {},
   "outputs": [],
   "source": [
    "val_smis = []\n",
    "for i, s in enumerate(G1_smis):\n",
    "    v = check_validity(s)\n",
    "    if v == 1:\n",
    "        val_smis.append(s)\n",
    "#         print(\"mol at:\", i, \" : verified\")"
   ]
  },
  {
   "cell_type": "code",
   "execution_count": 6,
   "id": "69e8ec81",
   "metadata": {},
   "outputs": [
    {
     "data": {
      "text/plain": [
       "7685"
      ]
     },
     "execution_count": 6,
     "metadata": {},
     "output_type": "execute_result"
    }
   ],
   "source": [
    "len(val_smis)"
   ]
  },
  {
   "cell_type": "code",
   "execution_count": 7,
   "id": "31835c19",
   "metadata": {},
   "outputs": [],
   "source": [
    "# get their chemical props:\n",
    "lgp = []\n",
    "mlw = []\n",
    "hba = []\n",
    "hbd = []\n",
    "rbn = []\n",
    "for s in val_smis:\n",
    "    lgp.append(logP(s))\n",
    "    mlw.append(molWt(s))\n",
    "    hba.append(numAcc(s))\n",
    "    hbd.append(numDon(s))\n",
    "    rbn.append(rolBon(s))"
   ]
  },
  {
   "cell_type": "code",
   "execution_count": 8,
   "id": "4efdca0c",
   "metadata": {},
   "outputs": [
    {
     "data": {
      "text/plain": [
       "<AxesSubplot:ylabel='Density'>"
      ]
     },
     "execution_count": 8,
     "metadata": {},
     "output_type": "execute_result"
    },
    {
     "data": {
      "image/png": "[encoded data removed]",
      "text/plain": [
       "<Figure size 432x288 with 1 Axes>"
      ]
     },
     "metadata": {},
     "output_type": "display_data"
    }
   ],
   "source": [
    "sns.kdeplot(x=lgp, fill=True, label='G', shade=True)\n",
    "# plt.savefig(\"gen_smis/G_logP.png\", dpi=300)"
   ]
  }
 ],
 "metadata": {
  "kernelspec": {
   "display_name": "Python 3 (ipykernel)",
   "language": "python",
   "name": "python3"
  },
  "language_info": {
   "codemirror_mode": {
    "name": "ipython",
    "version": 3
   },
   "file_extension": ".py",
   "mimetype": "text/x-python",
   "name": "python",
   "nbconvert_exporter": "python",
   "pygments_lexer": "ipython3",
   "version": "3.9.7"
  }
 },
 "nbformat": 4,
 "nbformat_minor": 5
}
