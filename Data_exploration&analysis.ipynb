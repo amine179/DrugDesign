{
 "cells": [
  {
   "cell_type": "code",
   "execution_count": 2,
   "id": "7a93bf59",
   "metadata": {},
   "outputs": [],
   "source": [
    "import matplotlib.pyplot as plt\n",
    "import seaborn as sns\n",
    "sns.set()\n",
    "\n",
    "import numpy as np\n",
    "import random\n",
    "\n",
    "import unidecode\n",
    "\n",
    "import rdkit\n",
    "from rdkit import Chem\n",
    "\n",
    "import pandas as pd"
   ]
  },
  {
   "cell_type": "code",
   "execution_count": 1,
   "id": "c8efb6ad",
   "metadata": {},
   "outputs": [],
   "source": [
    "from utils import get_props, strsmis2listsmis, check_validity, logP, molWt, numAcc, numDon, rolBon"
   ]
  },
  {
   "cell_type": "markdown",
   "id": "c3390fda",
   "metadata": {},
   "source": [
    "## UMAP on morgan fingerprint to see if there is overlaps"
   ]
  },
  {
   "cell_type": "code",
   "execution_count": 9,
   "id": "aa627ab9",
   "metadata": {},
   "outputs": [],
   "source": [
    "%matplotlib inline\n",
    "import matplotlib.pyplot as plt\n",
    "import numpy as np\n",
    "import seaborn as sns\n",
    "from sklearn.manifold import TSNE\n",
    "import umap\n",
    "sns.set_context('poster')\n",
    "sns.set_style('white')\n",
    "sns.set_color_codes()\n",
    "plot_kwds = {'alpha':0.5, 's':80, 'linewidth':0}"
   ]
  },
  {
   "cell_type": "code",
   "execution_count": 10,
   "id": "d48fe3c1",
   "metadata": {},
   "outputs": [],
   "source": [
    "from rdkit import Chem\n",
    "from rdkit.Chem import AllChem\n",
    "from rdkit.Chem import Draw\n",
    "from rdkit.Chem import DataStructs\n",
    "from rdkit.Chem.Draw import IPythonConsole"
   ]
  },
  {
   "cell_type": "code",
   "execution_count": 11,
   "id": "67014a65",
   "metadata": {},
   "outputs": [
    {
     "name": "stdout",
     "output_type": "stream",
     "text": [
      "10000 10000\n"
     ]
    }
   ],
   "source": [
    "RL_file = 'gen_smis/RL_1_all_smis_.txt'\n",
    "\n",
    "RL = pd.read_csv(RL_file, header=None)\n",
    "RL_smis = list(RL[0])\n",
    "\n",
    "#-------------------------------------------------------------------------------------------------\n",
    "\n",
    "CRLV_file = 'gen_smis/CRLV_1_all_smis_.txt'\n",
    "\n",
    "CRLV = pd.read_csv(CRLV_file, header=None)\n",
    "CRLV_smis = list(CRLV[0])\n",
    "\n",
    "print(len(RL_smis), len(CRLV_smis))"
   ]
  },
  {
   "cell_type": "code",
   "execution_count": 12,
   "id": "b25b435d",
   "metadata": {},
   "outputs": [
    {
     "name": "stdout",
     "output_type": "stream",
     "text": [
      "7698\n",
      "6633\n",
      "-----------------------------\n",
      "5820\n",
      "4800\n"
     ]
    }
   ],
   "source": [
    "RL_val = []\n",
    "CRLV_val = []\n",
    "for s2, s3 in zip(RL_smis, CRLV_smis):\n",
    "    v2 = check_validity(s2)\n",
    "    if v2 == 1:\n",
    "        RL_val.append(s2)\n",
    "    v3 = check_validity(s3)\n",
    "    if v3 == 1:\n",
    "        CRLV_val.append(s3)\n",
    "        \n",
    "print(len(RL_val))\n",
    "print(len(CRLV_val))\n",
    "\n",
    "print(\"-----------------------------\")\n",
    "RL_unq = list(set(RL_val))\n",
    "CRLV_unq = list(set(CRLV_val))\n",
    "print(len(RL_unq))\n",
    "print(len(CRLV_unq))"
   ]
  },
  {
   "cell_type": "code",
   "execution_count": 13,
   "id": "d82d6bd6",
   "metadata": {},
   "outputs": [
    {
     "name": "stdout",
     "output_type": "stream",
     "text": [
      "5820\n",
      "4800\n"
     ]
    }
   ],
   "source": [
    "RL_mols = []\n",
    "for s in RL_unq:\n",
    "    RL_mols.append(Chem.MolFromSmiles(s))\n",
    "    \n",
    "print(len(RL_mols))\n",
    "\n",
    "CRLV_mols = []\n",
    "for s in CRLV_unq:\n",
    "    CRLV_mols.append(Chem.MolFromSmiles(s))\n",
    "    \n",
    "print(len(CRLV_mols))"
   ]
  },
  {
   "cell_type": "code",
   "execution_count": 14,
   "id": "4cc72c27",
   "metadata": {},
   "outputs": [
    {
     "name": "stdout",
     "output_type": "stream",
     "text": [
      "5820 mols loaded\n",
      "4800 mols loaded\n"
     ]
    }
   ],
   "source": [
    "RL_X = []\n",
    "for mol in RL_mols:\n",
    "    arr = np.zeros((0,))\n",
    "    fp = AllChem.GetMorganFingerprintAsBitVect(mol, 2)\n",
    "    DataStructs.ConvertToNumpyArray(fp, arr)\n",
    "    RL_X.append(arr)\n",
    "    \n",
    "print('{} mols loaded'.format(len(RL_X)))\n",
    "\n",
    "CRLV_X = []\n",
    "for mol in CRLV_mols:\n",
    "    arr = np.zeros((0,))\n",
    "    fp = AllChem.GetMorganFingerprintAsBitVect(mol, 2)\n",
    "    DataStructs.ConvertToNumpyArray(fp, arr)\n",
    "    CRLV_X.append(arr)\n",
    "    \n",
    "print('{} mols loaded'.format(len(CRLV_X)))"
   ]
  },
  {
   "cell_type": "code",
   "execution_count": 15,
   "id": "167e07b6",
   "metadata": {},
   "outputs": [],
   "source": [
    "import numba\n",
    "@numba.njit()\n",
    "def tanimoto_dist(a,b):\n",
    "    dotprod = np.dot(a,b)\n",
    "    tc = dotprod / (np.sum(a) + np.sum(b) - dotprod)\n",
    "    return 1.0-tc"
   ]
  },
  {
   "cell_type": "code",
   "execution_count": 18,
   "id": "6e3f3ae2",
   "metadata": {},
   "outputs": [],
   "source": [
    "umap_RL_X = umap.UMAP(n_neighbors=8, min_dist=0.3, metric=tanimoto_dist).fit_transform(RL_X)\n",
    "print(umap_RL_X.shape)\n",
    "\n",
    "umap_CRLV_X = umap.UMAP(n_neighbors=8, min_dist=0.3, metric=tanimoto_dist).fit_transform(CRLV_X)\n",
    "print(umap_CRLV_X.shape)"
   ]
  },
  {
   "cell_type": "code",
   "execution_count": 17,
   "id": "8cd39aab",
   "metadata": {},
   "outputs": [
    {
     "data": {
      "text/plain": [
       "<matplotlib.collections.PathCollection at 0x119f2bbb520>"
      ]
     },
     "execution_count": 17,
     "metadata": {},
     "output_type": "execute_result"
    },
    {
     "data": {
      "image/png": "[encoded data removed]",
      "text/plain": [
       "<Figure size 432x288 with 1 Axes>"
      ]
     },
     "metadata": {},
     "output_type": "display_data"
    }
   ],
   "source": [
    "# plots for objective 1\n",
    "plt.scatter(umap_RL_X.T[0], umap_RL_X.T[1])       #, **plot_kwds)\n",
    "plt.scatter(umap_CRLV_X.T[0], umap_CRLV_X.T[1])   #, **plot_kwds)\n",
    "\n",
    "# plt.savefig('gen_smis/obj1_umap.png', dpi=300)"
   ]
  },
  {
   "cell_type": "markdown",
   "id": "76bcb96f",
   "metadata": {},
   "source": [
    "## Structural variance:"
   ]
  },
  {
   "cell_type": "code",
   "execution_count": 9,
   "id": "642f0651",
   "metadata": {},
   "outputs": [],
   "source": [
    "def sv(smi):\n",
    "    return len(set(smi)) / 100 "
   ]
  },
  {
   "cell_type": "code",
   "execution_count": 10,
   "id": "e07ac446",
   "metadata": {},
   "outputs": [],
   "source": [
    "fobj2 = pd.read_csv('all_data/obj2.txt', header=None)\n",
    "obj2 = list(fobj2[0])\n",
    "\n",
    "fobj3 = pd.read_csv('all_data/obj3.txt', header=None)\n",
    "obj3 = list(fobj3[0])\n",
    "\n",
    "fobj4 = pd.read_csv('all_data/obj4.txt', header=None)\n",
    "obj4 = list(fobj4[0])"
   ]
  },
  {
   "cell_type": "code",
   "execution_count": 11,
   "id": "7f84f6dc",
   "metadata": {},
   "outputs": [],
   "source": [
    "os2sv = []\n",
    "os3sv = []\n",
    "os4sv = []\n",
    "    \n",
    "for i, s in enumerate(obj2):\n",
    "    os2sv.append(sv(s))\n",
    "    \n",
    "for i, s in enumerate(obj3):\n",
    "    os3sv.append(sv(s))\n",
    "    \n",
    "for i, s in enumerate(obj4):\n",
    "    os4sv.append(sv(s))\n"
   ]
  },
  {
   "cell_type": "code",
   "execution_count": 12,
   "id": "2eec8e3a",
   "metadata": {},
   "outputs": [
    {
     "data": {
      "text/plain": [
       "<matplotlib.legend.Legend at 0x264043919a0>"
      ]
     },
     "execution_count": 12,
     "metadata": {},
     "output_type": "execute_result"
    },
    {
     "data": {
      "image/png": "[encoded data removed]",
      "text/plain": [
       "<Figure size 432x288 with 1 Axes>"
      ]
     },
     "metadata": {},
     "output_type": "display_data"
    }
   ],
   "source": [
    "sns.kdeplot(x=os2sv[0:50000], fill=False, label='obj2')#, shade=True)\n",
    "sns.kdeplot(x=os3sv[0:50000], fill=False, label='obj3')#, shade=True)\n",
    "plt.legend()"
   ]
  },
  {
   "cell_type": "code",
   "execution_count": 13,
   "id": "3890e5bd",
   "metadata": {},
   "outputs": [
    {
     "data": {
      "text/plain": [
       "<matplotlib.legend.Legend at 0x264043866d0>"
      ]
     },
     "execution_count": 13,
     "metadata": {},
     "output_type": "execute_result"
    },
    {
     "data": {
      "image/png": "[encoded data removed]",
      "text/plain": [
       "<Figure size 432x288 with 1 Axes>"
      ]
     },
     "metadata": {},
     "output_type": "display_data"
    }
   ],
   "source": [
    "sns.kdeplot(x=os2sv[0:50000], fill=False, label='obj2')#, shade=True)\n",
    "sns.kdeplot(x=os4sv[0:50000], fill=False, label='obj4')#, shade=True)\n",
    "plt.legend()"
   ]
  },
  {
   "cell_type": "markdown",
   "id": "36025acc",
   "metadata": {},
   "source": [
    "## Example molecules of objective 5:"
   ]
  },
  {
   "cell_type": "code",
   "execution_count": 3,
   "id": "f582eb31",
   "metadata": {},
   "outputs": [
    {
     "data": {
      "text/plain": [
       "'COc1ccc2[C@@H]3[C@H](COc2c1)C(C)(C)OC4=C3C(=O)C(=O)C5=C4OC(C)(C)[C@@H]6COc7cc(OC)ccc7[C@H]56'"
      ]
     },
     "execution_count": 3,
     "metadata": {},
     "output_type": "execute_result"
    }
   ],
   "source": [
    "dataset = unidecode.unidecode(open('all_data/s_100_str_+1M.txt').read())\n",
    "dataset_smis_ = strsmis2listsmis(dataset)\n",
    "dataset_smis_[0]"
   ]
  },
  {
   "cell_type": "code",
   "execution_count": 4,
   "id": "fc1c58a6",
   "metadata": {
    "scrolled": true
   },
   "outputs": [
    {
     "name": "stdout",
     "output_type": "stream",
     "text": [
      "There is one at 74359\n",
      "There is one at 140100\n",
      "There is one at 151740\n",
      "There is one at 213038\n",
      "There is one at 274395\n",
      "There is one at 361520\n",
      "There is one at 365067\n",
      "There is one at 392169\n",
      "There is one at 432600\n",
      "There is one at 445777\n",
      "There is one at 479901\n",
      "There is one at 515337\n",
      "There is one at 552106\n",
      "There is one at 621924\n",
      "There is one at 635869\n",
      "There is one at 723269\n",
      "There is one at 732423\n",
      "There is one at 738912\n",
      "There is one at 785390\n",
      "There is one at 785392\n",
      "There is one at 785394\n",
      "There is one at 785395\n",
      "There is one at 787642\n",
      "There is one at 796942\n",
      "There is one at 873360\n",
      "There is one at 917597\n",
      "There is one at 921850\n",
      "There is one at 924728\n",
      "There is one at 938046\n",
      "There is one at 939348\n",
      "There is one at 944402\n",
      "There is one at 954244\n",
      "There is one at 962220\n",
      "There is one at 962725\n",
      "There is one at 1000203\n",
      "There is one at 1016015\n",
      "There is one at 1035824\n",
      "There is one at 1050392\n",
      "There is one at 1056647\n",
      "There is one at 1074411\n",
      "There is one at 1099731\n",
      "There is one at 1099977\n",
      "There is one at 1111176\n",
      "There is one at 1112030\n",
      "There is one at 1182986\n",
      "There is one at 1211357\n",
      "There is one at 1211490\n",
      "There is one at 1211641\n",
      "There is one at 1212042\n",
      "There is one at 1212512\n",
      "There is one at 1215667\n",
      "There is one at 1279599\n",
      "There is one at 1284038\n",
      "There is one at 1289953\n",
      "There is one at 1292746\n",
      "There is one at 1320914\n",
      "There is one at 1321705\n",
      "There is one at 1329836\n",
      "There is one at 1329837\n",
      "There is one at 1363041\n",
      "There is one at 1451320\n",
      "There is one at 1457780\n",
      "There is one at 1458549\n",
      "There is one at 1459089\n",
      "There is one at 1459375\n",
      "There is one at 1460011\n",
      "There is one at 1467279\n",
      "There is one at 1475482\n",
      "There is one at 1476524\n",
      "There is one at 1478526\n",
      "There is one at 1482622\n",
      "There is one at 1482860\n",
      "There is one at 1488284\n",
      "There is one at 1488455\n",
      "There is one at 1488582\n",
      "There is one at 1488799\n"
     ]
    }
   ],
   "source": [
    "obj5 = []\n",
    "idxs = []\n",
    "for i, s in enumerate(dataset_smis_): \n",
    "    arr, alr, oh, cooh, coor, nh2, rval = get_props(s, c=2)                                                        \n",
    "    cycle, grp, rv = 0, 0, 0 \n",
    "    if arr==2 or alr==1: \n",
    "        cycle = 1\n",
    "    if oh>=1 and cooh>=1 and coor>=1 and nh2>=1:\n",
    "        grp = 1\n",
    "    if 0.05<rval<0.5:\n",
    "        rv = 1\n",
    "\n",
    "    if cycle==1 and grp==1 and rv==1:\n",
    "        print(\"There is one at\", i)\n",
    "        obj5.append(s)   \n",
    "        idxs.append(i)"
   ]
  },
  {
   "cell_type": "code",
   "execution_count": 5,
   "id": "48fdb4bf",
   "metadata": {},
   "outputs": [
    {
     "data": {
      "text/plain": [
       "76"
      ]
     },
     "execution_count": 5,
     "metadata": {},
     "output_type": "execute_result"
    }
   ],
   "source": [
    "len(obj5)"
   ]
  },
  {
   "cell_type": "code",
   "execution_count": 6,
   "id": "448dbef7",
   "metadata": {},
   "outputs": [
    {
     "data": {
      "text/plain": [
       "'Nc1nc(O)c2ncn(COCCOC(=O)CCC(=O)O)c2n1'"
      ]
     },
     "execution_count": 6,
     "metadata": {},
     "output_type": "execute_result"
    }
   ],
   "source": [
    "obj5[0]       #or using the Chembl ID : dataset_smis_[idxs[0]]"
   ]
  },
  {
   "cell_type": "code",
   "execution_count": 8,
   "id": "1885512f",
   "metadata": {},
   "outputs": [
    {
     "data": {
      "text/plain": [
       "'Nc1nc(O)c2ncn(COCCOC(=O)CCC(=O)O)c2n1'"
      ]
     },
     "execution_count": 8,
     "metadata": {},
     "output_type": "execute_result"
    }
   ],
   "source": [
    "dataset_smis_[idxs[0]]"
   ]
  },
  {
   "cell_type": "code",
   "execution_count": 7,
   "id": "ab7cc9e3",
   "metadata": {},
   "outputs": [
    {
     "data": {
      "image/png": "[encoded data removed]",
      "text/plain": [
       "<PIL.PngImagePlugin.PngImageFile image mode=RGB size=400x250 at 0x264285776A0>"
      ]
     },
     "execution_count": 7,
     "metadata": {},
     "output_type": "execute_result"
    }
   ],
   "source": [
    "from rdkit.Chem import Draw\n",
    "mol = Chem.MolFromSmiles(obj5[0])\n",
    "Draw.MolToImage(mol, size=(400,250))"
   ]
  },
  {
   "cell_type": "code",
   "execution_count": null,
   "id": "090008ee",
   "metadata": {},
   "outputs": [],
   "source": []
  }
 ],
 "metadata": {
  "kernelspec": {
   "display_name": "Python 3 (ipykernel)",
   "language": "python",
   "name": "python3"
  },
  "language_info": {
   "codemirror_mode": {
    "name": "ipython",
    "version": 3
   },
   "file_extension": ".py",
   "mimetype": "text/x-python",
   "name": "python",
   "nbconvert_exporter": "python",
   "pygments_lexer": "ipython3",
   "version": "3.9.7"
  }
 },
 "nbformat": 4,
 "nbformat_minor": 5
}
